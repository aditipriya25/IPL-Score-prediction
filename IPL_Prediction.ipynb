{
  "nbformat": 4,
  "nbformat_minor": 0,
  "metadata": {
    "colab": {
      "provenance": [],
      "authorship_tag": "ABX9TyPn0+poYQlum6gB8wCVkwcA",
      "include_colab_link": true
    },
    "kernelspec": {
      "name": "python3",
      "display_name": "Python 3"
    },
    "language_info": {
      "name": "python"
    }
  },
  "cells": [
    {
      "cell_type": "markdown",
      "metadata": {
        "id": "view-in-github",
        "colab_type": "text"
      },
      "source": [
        "<a href=\"https://colab.research.google.com/github/aditipriya25/IPL-Score-prediction/blob/main/IPL_Prediction.ipynb\" target=\"_parent\"><img src=\"https://colab.research.google.com/assets/colab-badge.svg\" alt=\"Open In Colab\"/></a>"
      ]
    },
    {
      "cell_type": "code",
      "execution_count": 1,
      "metadata": {
        "colab": {
          "base_uri": "https://localhost:8080/",
          "height": 1000
        },
        "id": "dK9spU4v_Qep",
        "outputId": "e0e91f73-18de-40d8-b863-5f154d77a4cc"
      },
      "outputs": [
        {
          "output_type": "stream",
          "name": "stdout",
          "text": [
            "Epoch 1/50\n",
            "832/832 [==============================] - 5s 5ms/step - loss: 32.5884 - val_loss: 22.4365\n",
            "Epoch 2/50\n",
            "832/832 [==============================] - 4s 5ms/step - loss: 22.3744 - val_loss: 22.2021\n",
            "Epoch 3/50\n",
            "832/832 [==============================] - 4s 5ms/step - loss: 22.3265 - val_loss: 21.9697\n",
            "Epoch 4/50\n",
            "832/832 [==============================] - 4s 4ms/step - loss: 22.2678 - val_loss: 21.8825\n",
            "Epoch 5/50\n",
            "832/832 [==============================] - 4s 5ms/step - loss: 22.2025 - val_loss: 22.1262\n",
            "Epoch 6/50\n",
            "832/832 [==============================] - 4s 5ms/step - loss: 22.1624 - val_loss: 21.8124\n",
            "Epoch 7/50\n",
            "832/832 [==============================] - 4s 4ms/step - loss: 22.1369 - val_loss: 22.1489\n",
            "Epoch 8/50\n",
            "832/832 [==============================] - 4s 4ms/step - loss: 22.1067 - val_loss: 21.7578\n",
            "Epoch 9/50\n",
            "832/832 [==============================] - 5s 6ms/step - loss: 22.0365 - val_loss: 21.9196\n",
            "Epoch 10/50\n",
            "832/832 [==============================] - 4s 4ms/step - loss: 22.0670 - val_loss: 21.8049\n",
            "Epoch 11/50\n",
            "832/832 [==============================] - 4s 5ms/step - loss: 22.0460 - val_loss: 21.7825\n",
            "Epoch 12/50\n",
            "832/832 [==============================] - 5s 6ms/step - loss: 22.0043 - val_loss: 21.7030\n",
            "Epoch 13/50\n",
            "832/832 [==============================] - 4s 5ms/step - loss: 21.9360 - val_loss: 21.6535\n",
            "Epoch 14/50\n",
            "832/832 [==============================] - 4s 5ms/step - loss: 21.9838 - val_loss: 21.6957\n",
            "Epoch 15/50\n",
            "832/832 [==============================] - 5s 6ms/step - loss: 21.9360 - val_loss: 21.6390\n",
            "Epoch 16/50\n",
            "832/832 [==============================] - 4s 4ms/step - loss: 21.9279 - val_loss: 21.6999\n",
            "Epoch 17/50\n",
            "832/832 [==============================] - 5s 6ms/step - loss: 21.8743 - val_loss: 21.6333\n",
            "Epoch 18/50\n",
            "832/832 [==============================] - 4s 5ms/step - loss: 21.7210 - val_loss: 21.4330\n",
            "Epoch 19/50\n",
            "832/832 [==============================] - 4s 4ms/step - loss: 21.6841 - val_loss: 21.4043\n",
            "Epoch 20/50\n",
            "832/832 [==============================] - 4s 5ms/step - loss: 21.6037 - val_loss: 21.2821\n",
            "Epoch 21/50\n",
            "832/832 [==============================] - 4s 5ms/step - loss: 21.5523 - val_loss: 21.3893\n",
            "Epoch 22/50\n",
            "832/832 [==============================] - 4s 4ms/step - loss: 21.4862 - val_loss: 21.2564\n",
            "Epoch 23/50\n",
            "832/832 [==============================] - 4s 5ms/step - loss: 21.4324 - val_loss: 21.1725\n",
            "Epoch 24/50\n",
            "832/832 [==============================] - 5s 6ms/step - loss: 21.3825 - val_loss: 21.0624\n",
            "Epoch 25/50\n",
            "832/832 [==============================] - 4s 4ms/step - loss: 21.3351 - val_loss: 21.0270\n",
            "Epoch 26/50\n",
            "832/832 [==============================] - 4s 5ms/step - loss: 21.2706 - val_loss: 20.9064\n",
            "Epoch 27/50\n",
            "832/832 [==============================] - 5s 6ms/step - loss: 21.2186 - val_loss: 20.9161\n",
            "Epoch 28/50\n",
            "832/832 [==============================] - 4s 5ms/step - loss: 21.1360 - val_loss: 20.9255\n",
            "Epoch 29/50\n",
            "832/832 [==============================] - 5s 6ms/step - loss: 21.0726 - val_loss: 20.7549\n",
            "Epoch 30/50\n",
            "832/832 [==============================] - 5s 6ms/step - loss: 21.0165 - val_loss: 20.6999\n",
            "Epoch 31/50\n",
            "832/832 [==============================] - 4s 5ms/step - loss: 20.9230 - val_loss: 20.6685\n",
            "Epoch 32/50\n",
            "832/832 [==============================] - 5s 6ms/step - loss: 20.8420 - val_loss: 20.6993\n",
            "Epoch 33/50\n",
            "832/832 [==============================] - 4s 5ms/step - loss: 20.8120 - val_loss: 20.5196\n",
            "Epoch 34/50\n",
            "832/832 [==============================] - 4s 5ms/step - loss: 20.7203 - val_loss: 20.4191\n",
            "Epoch 35/50\n",
            "832/832 [==============================] - 5s 6ms/step - loss: 20.6119 - val_loss: 20.8044\n",
            "Epoch 36/50\n",
            "832/832 [==============================] - 4s 4ms/step - loss: 20.4598 - val_loss: 20.5732\n",
            "Epoch 37/50\n",
            "832/832 [==============================] - 4s 4ms/step - loss: 20.3558 - val_loss: 20.2947\n",
            "Epoch 38/50\n",
            "832/832 [==============================] - 5s 6ms/step - loss: 20.2257 - val_loss: 20.3598\n",
            "Epoch 39/50\n",
            "832/832 [==============================] - 4s 4ms/step - loss: 20.1462 - val_loss: 20.2087\n",
            "Epoch 40/50\n",
            "832/832 [==============================] - 4s 4ms/step - loss: 20.0694 - val_loss: 19.7905\n",
            "Epoch 41/50\n",
            "832/832 [==============================] - 5s 6ms/step - loss: 19.9343 - val_loss: 19.6815\n",
            "Epoch 42/50\n",
            "832/832 [==============================] - 4s 5ms/step - loss: 19.8088 - val_loss: 19.5930\n",
            "Epoch 43/50\n",
            "832/832 [==============================] - 4s 4ms/step - loss: 19.7424 - val_loss: 19.6214\n",
            "Epoch 44/50\n",
            "832/832 [==============================] - 4s 5ms/step - loss: 19.6826 - val_loss: 19.4777\n",
            "Epoch 45/50\n",
            "832/832 [==============================] - 5s 6ms/step - loss: 19.5656 - val_loss: 19.2661\n",
            "Epoch 46/50\n",
            "832/832 [==============================] - 4s 5ms/step - loss: 19.4908 - val_loss: 19.2483\n",
            "Epoch 47/50\n",
            "832/832 [==============================] - 4s 5ms/step - loss: 19.3945 - val_loss: 19.3782\n",
            "Epoch 48/50\n",
            "832/832 [==============================] - 4s 5ms/step - loss: 19.3324 - val_loss: 19.0795\n",
            "Epoch 49/50\n",
            "832/832 [==============================] - 4s 4ms/step - loss: 19.3151 - val_loss: 19.0152\n",
            "Epoch 50/50\n",
            "832/832 [==============================] - 4s 5ms/step - loss: 19.1615 - val_loss: 19.3308\n",
            "713/713 [==============================] - 2s 2ms/step\n"
          ]
        },
        {
          "output_type": "execute_result",
          "data": {
            "text/plain": [
              "19.823774867109027"
            ]
          },
          "metadata": {},
          "execution_count": 1
        },
        {
          "output_type": "display_data",
          "data": {
            "text/plain": [
              "<Figure size 640x480 with 1 Axes>"
            ],
            "image/png": "[encoded data removed]"
          },
          "metadata": {}
        }
      ],
      "source": [
        "import pandas as pd\n",
        "import numpy as np\n",
        "import matplotlib.pyplot as plt\n",
        "import seaborn as sns\n",
        "from sklearn import preprocessing\n",
        "import keras\n",
        "import tensorflow as tf\n",
        "\n",
        "ipl = pd.read_csv('/content/ipl_data.csv')\n",
        "ipl.head()\n",
        "\n",
        "#Dropping certain features\n",
        "df = ipl.drop(['date', 'runs', 'wickets', 'overs', 'runs_last_5', 'wickets_last_5','mid', 'striker', 'non-striker'], axis =1)\n",
        "\n",
        "X = df.drop(['total'], axis =1)\n",
        "y = df['total']\n",
        "\n",
        "#Label Encoding\n",
        "\n",
        "from sklearn.preprocessing import LabelEncoder\n",
        "\n",
        "# Create a LabelEncoder object for each categorical feature\n",
        "venue_encoder = LabelEncoder()\n",
        "batting_team_encoder = LabelEncoder()\n",
        "bowling_team_encoder = LabelEncoder()\n",
        "striker_encoder = LabelEncoder()\n",
        "bowler_encoder = LabelEncoder()\n",
        "\n",
        "# Fit and transform the categorical features with label encoding\n",
        "X['venue'] = venue_encoder.fit_transform(X['venue'])\n",
        "X['bat_team'] = batting_team_encoder.fit_transform(X['bat_team'])\n",
        "X['bowl_team'] = bowling_team_encoder.fit_transform(X['bowl_team'])\n",
        "X['batsman'] = striker_encoder.fit_transform(X['batsman'])\n",
        "X['bowler'] = bowler_encoder.fit_transform(X['bowler'])\n",
        "\n",
        "# Train test Split\n",
        "from sklearn.model_selection import train_test_split\n",
        "X_train, X_test, y_train, y_test = train_test_split(X, y, test_size=0.3, random_state=42)\n",
        "\n",
        "from sklearn.preprocessing import MinMaxScaler\n",
        "\n",
        "scaler = MinMaxScaler()\n",
        "\n",
        "# Fit the scaler on the training data and transform both training and testing data\n",
        "X_train_scaled = scaler.fit_transform(X_train)\n",
        "X_test_scaled = scaler.transform(X_test)\n",
        "\n",
        "# Define the neural network model\n",
        "model = keras.Sequential([\n",
        "\tkeras.layers.Input( shape=(X_train_scaled.shape[1],)), # Input layer\n",
        "\tkeras.layers.Dense(512, activation='relu'), # Hidden layer with 512 units and ReLU activation\n",
        "\tkeras.layers.Dense(216, activation='relu'), # Hidden layer with 216 units and ReLU activation\n",
        "\tkeras.layers.Dense(1, activation='linear') # Output layer with linear activation for regression\n",
        "])\n",
        "\n",
        "# Compile the model with Huber loss\n",
        "huber_loss = tf.keras.losses.Huber(delta=1.0) # You can adjust the 'delta' parameter as needed\n",
        "model.compile(optimizer='adam', loss=huber_loss) # Use Huber loss for regression\n",
        "\n",
        "# Train the model\n",
        "model.fit(X_train_scaled, y_train, epochs=50, batch_size=64, validation_data=(X_test_scaled, y_test))\n",
        "\n",
        "model_losses = pd.DataFrame(model.history.history)\n",
        "model_losses.plot()\n",
        "\n",
        "# Make predictions\n",
        "predictions = model.predict(X_test_scaled)\n",
        "\n",
        "from sklearn.metrics import mean_absolute_error,mean_squared_error\n",
        "mean_absolute_error(y_test,predictions)\n",
        "\n",
        "\n",
        "\n",
        "\n"
      ]
    },
    {
      "cell_type": "code",
      "source": [
        "import numpy as np\n",
        "import pandas as pd\n",
        "from sklearn.model_selection import train_test_split\n",
        "from sklearn.linear_model import LinearRegression\n",
        "\n",
        "# Load your dataset\n",
        "data = pd.read_csv(\"/content/ipl_data.csv\")\n",
        "df = data.drop(['runs_last_5', 'wickets_last_5','mid', 'striker', 'non-striker'], axis=1)\n",
        "\n",
        "# Assuming 'total' is the target variable\n",
        "X = df[['runs', 'wickets']]\n",
        "y_true = df['total']\n",
        "\n",
        "# Split data into train and test sets\n",
        "X_train, X_test, y_train, y_test = train_test_split(X, y_true, test_size=0.2, random_state=42)\n",
        "\n",
        "# Train your model (Example: Linear Regression)\n",
        "model = LinearRegression()\n",
        "model.fit(X_train, y_train)\n",
        "\n",
        "# Obtain predictions from the model\n",
        "y_pred = model.predict(X_test)\n",
        "\n",
        "# Huber loss function\n",
        "def huber_loss(y_true, y_pred, delta=1.0):\n",
        "    error = y_true - y_pred\n",
        "    condition = np.abs(error) < delta\n",
        "    squared_loss = 0.5 * error ** 2\n",
        "    linear_loss = delta * (np.abs(error) - 0.5 * delta)\n",
        "    return np.where(condition, squared_loss, linear_loss)\n",
        "\n",
        "# Calculate Huber loss\n",
        "loss = huber_loss(y_test, y_pred)\n",
        "print(\"Huber Loss:\", loss)\n"
      ],
      "metadata": {
        "colab": {
          "base_uri": "https://localhost:8080/"
        },
        "id": "DmwAjA0VAkuv",
        "outputId": "1026556f-3cfa-4dea-b595-07a6898bcaf0"
      },
      "execution_count": 2,
      "outputs": [
        {
          "output_type": "stream",
          "name": "stdout",
          "text": [
            "Huber Loss: [ 0.12541387 16.48970817 44.21413901 ...  7.86263283  0.25499727\n",
            " 16.12722346]\n"
          ]
        }
      ]
    },
    {
      "cell_type": "code",
      "source": [
        "import pandas as pd\n",
        "import numpy as np\n",
        "import matplotlib.pyplot as plt\n",
        "import pickle\n",
        "ipl_data=pd.read_csv('/content/ipl_data.csv')\n",
        "ipl_data.shape\n",
        "ipl_data.head(5)\n",
        "#removing unwanted columns\n",
        "column_delete=['mid','venue','batsman','bowler','striker','non-striker']\n",
        "ipl_data.drop(labels=column_delete,axis=1,inplace=True)\n",
        "ipl_data.head(5)\n",
        "[ipl_data['bat_team'].unique()]\n",
        "current_team=['Kolkata Knight Riders', 'Chennai Super Kings', 'Rajasthan Royals',\n",
        "        'Mumbai Indians', 'Kings XI Punjab',\n",
        "        'Royal Challengers Bangalore', 'Delhi Daredevils','Sunrisers Hyderabad']\n",
        "ipl_data=ipl_data[(ipl_data['bat_team'].isin(current_team))&(ipl_data['bowl_team'].isin(current_team))]\n",
        "ipl_data.shape\n",
        "#Removing First 6 over i.e Powerplay to that we have atleast 6 over data to predict\n",
        "ipl_data=ipl_data[ipl_data['overs']>=6.0]\n",
        "ipl_data.head(5)\n",
        "#Convert Data string to datetime object\n",
        "from datetime import datetime\n",
        "ipl_data['date']=ipl_data['date'].apply(lambda x: datetime.strptime(x,'%Y-%m-%d'))\n",
        "#Data Preprocessing : One Hot Encoding\n",
        "encoded_ipl=pd.get_dummies(data=ipl_data,columns=['bat_team','bowl_team'])\n",
        "encoded_ipl.head(5)\n",
        "#Rearranging Dataset\n",
        "encoded_ipl.columns\n",
        "encoded_ipl=encoded_ipl[['date', 'runs', 'wickets', 'overs', 'runs_last_5', 'wickets_last_5',\n",
        "        'bat_team_Chennai Super Kings', 'bat_team_Delhi Daredevils',\n",
        "       'bat_team_Kings XI Punjab', 'bat_team_Kolkata Knight Riders',\n",
        "       'bat_team_Mumbai Indians', 'bat_team_Rajasthan Royals',\n",
        "       'bat_team_Royal Challengers Bangalore', 'bat_team_Sunrisers Hyderabad',\n",
        "       'bowl_team_Chennai Super Kings', 'bowl_team_Delhi Daredevils',\n",
        "       'bowl_team_Kings XI Punjab', 'bowl_team_Kolkata Knight Riders',\n",
        "       'bowl_team_Mumbai Indians', 'bowl_team_Rajasthan Royals',\n",
        "       'bowl_team_Royal Challengers Bangalore',\n",
        "       'bowl_team_Sunrisers Hyderabad','total']]\n",
        "\n",
        "x_train=encoded_ipl.drop(labels='total',axis=1)[encoded_ipl['date'].dt.year<=2016]\n",
        "x_test=encoded_ipl.drop(labels='total',axis=1)[encoded_ipl['date'].dt.year>2016]\n",
        "y_train=encoded_ipl[encoded_ipl['date'].dt.year<=2016]['total'].values\n",
        "y_test=encoded_ipl[encoded_ipl['date'].dt.year>2016]['total'].values\n",
        "#remove date column\n",
        "x_train.drop(labels='date',axis=True,inplace=True)\n",
        "x_test.drop(labels='date',axis=True,inplace=True)\n",
        "\n",
        "from sklearn.linear_model import LinearRegression\n",
        "\n",
        "lr=LinearRegression()\n",
        "lr.fit(x_train,y_train)\n",
        "y_pred=lr.predict(x_test)\n",
        "print(y_pred)\n",
        "import seaborn as sns\n",
        "sns.displot(y_test-y_pred)\n",
        "# Creating a pickle file for the classifier\n",
        "filename = 'first-innings-score-lr-model.pkl'\n",
        "pickle.dump(LinearRegression, open(filename, 'wb'))\n",
        "from sklearn import metrics\n",
        "print('Mean Absolute Error :',(metrics.mean_absolute_error(y_test,y_pred)))"
      ],
      "metadata": {
        "colab": {
          "base_uri": "https://localhost:8080/",
          "height": 558
        },
        "id": "dVzKQQQKBpvx",
        "outputId": "b2dbfc2e-5867-4cc8-a8c7-f262805aaf1a"
      },
      "execution_count": 3,
      "outputs": [
        {
          "output_type": "stream",
          "name": "stdout",
          "text": [
            "[179.81983771 179.18190882 179.56866391 ... 101.0572762  100.4620371\n",
            "  94.11722237]\n",
            "Mean Absolute Error : 11.695460753505193\n"
          ]
        },
        {
          "output_type": "display_data",
          "data": {
            "text/plain": [
              "<Figure size 500x500 with 1 Axes>"
            ],
            "image/png": "[encoded data removed]"
          },
          "metadata": {}
        }
      ]
    },
    {
      "cell_type": "code",
      "source": [],
      "metadata": {
        "id": "56aGZVUQByl5"
      },
      "execution_count": null,
      "outputs": []
    }
  ]
}